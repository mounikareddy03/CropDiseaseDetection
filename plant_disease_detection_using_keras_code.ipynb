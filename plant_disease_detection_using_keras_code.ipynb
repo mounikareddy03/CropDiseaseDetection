{
  "cells": [
    {
      "metadata": {
        "_uuid": "1020827e241ac87ffdf8e0f8762a6885bdc28fbc",
        "id": "gQk4Y_YzxkSF"
      },
      "cell_type": "markdown",
      "source": [
        "Import neccessary packages"
      ]
    },
    {
      "cell_type": "code",
      "source": [
        "! pip install kaggle"
      ],
      "metadata": {
        "colab": {
          "base_uri": "https://localhost:8080/"
        },
        "id": "YnF7tVrdxw4Y",
        "outputId": "ee866102-bcbc-499a-b90a-981a95222be5"
      },
      "execution_count": null,
      "outputs": [
        {
          "output_type": "stream",
          "name": "stdout",
          "text": [
            "Looking in indexes: https://pypi.org/simple, https://us-python.pkg.dev/colab-wheels/public/simple/\n",
            "Requirement already satisfied: kaggle in /usr/local/lib/python3.9/dist-packages (1.5.13)\n",
            "Requirement already satisfied: six>=1.10 in /usr/local/lib/python3.9/dist-packages (from kaggle) (1.16.0)\n",
            "Requirement already satisfied: certifi in /usr/local/lib/python3.9/dist-packages (from kaggle) (2022.12.7)\n",
            "Requirement already satisfied: urllib3 in /usr/local/lib/python3.9/dist-packages (from kaggle) (1.26.15)\n",
            "Requirement already satisfied: python-slugify in /usr/local/lib/python3.9/dist-packages (from kaggle) (8.0.1)\n",
            "Requirement already satisfied: tqdm in /usr/local/lib/python3.9/dist-packages (from kaggle) (4.65.0)\n",
            "Requirement already satisfied: requests in /usr/local/lib/python3.9/dist-packages (from kaggle) (2.27.1)\n",
            "Requirement already satisfied: python-dateutil in /usr/local/lib/python3.9/dist-packages (from kaggle) (2.8.2)\n",
            "Requirement already satisfied: text-unidecode>=1.3 in /usr/local/lib/python3.9/dist-packages (from python-slugify->kaggle) (1.3)\n",
            "Requirement already satisfied: idna<4,>=2.5 in /usr/local/lib/python3.9/dist-packages (from requests->kaggle) (3.4)\n",
            "Requirement already satisfied: charset-normalizer~=2.0.0 in /usr/local/lib/python3.9/dist-packages (from requests->kaggle) (2.0.12)\n"
          ]
        }
      ]
    },
    {
      "cell_type": "code",
      "source": [
        "from google.colab import drive\n",
        "drive.mount('/content/gdrive')"
      ],
      "metadata": {
        "colab": {
          "base_uri": "https://localhost:8080/"
        },
        "id": "8LnW5pM-x1iI",
        "outputId": "7f6b76ec-77c4-4ab6-9452-7346a8853ba7"
      },
      "execution_count": null,
      "outputs": [
        {
          "output_type": "stream",
          "name": "stdout",
          "text": [
            "Mounted at /content/gdrive\n"
          ]
        }
      ]
    },
    {
      "cell_type": "code",
      "source": [
        "from google.colab import files\n",
        "files.upload()"
      ],
      "metadata": {
        "colab": {
          "base_uri": "https://localhost:8080/",
          "height": 90
        },
        "id": "yr65Lf8_0xp5",
        "outputId": "bdb4ecdd-6f3d-4174-c1ee-d56742cc033c"
      },
      "execution_count": null,
      "outputs": [
        {
          "output_type": "display_data",
          "data": {
            "text/plain": [
              "<IPython.core.display.HTML object>"
            ],
            "text/html": [
              "\n",
              "     <input type=\"file\" id=\"files-300a3c23-7c21-4158-91b9-5431de5e791b\" name=\"files[]\" multiple disabled\n",
              "        style=\"border:none\" />\n",
              "     <output id=\"result-300a3c23-7c21-4158-91b9-5431de5e791b\">\n",
              "      Upload widget is only available when the cell has been executed in the\n",
              "      current browser session. Please rerun this cell to enable.\n",
              "      </output>\n",
              "      <script>// Copyright 2017 Google LLC\n",
              "//\n",
              "// Licensed under the Apache License, Version 2.0 (the \"License\");\n",
              "// you may not use this file except in compliance with the License.\n",
              "// You may obtain a copy of the License at\n",
              "//\n",
              "//      http://www.apache.org/licenses/LICENSE-2.0\n",
              "//\n",
              "// Unless required by applicable law or agreed to in writing, software\n",
              "// distributed under the License is distributed on an \"AS IS\" BASIS,\n",
              "// WITHOUT WARRANTIES OR CONDITIONS OF ANY KIND, either express or implied.\n",
              "// See the License for the specific language governing permissions and\n",
              "// limitations under the License.\n",
              "\n",
              "/**\n",
              " * @fileoverview Helpers for google.colab Python module.\n",
              " */\n",
              "(function(scope) {\n",
              "function span(text, styleAttributes = {}) {\n",
              "  const element = document.createElement('span');\n",
              "  element.textContent = text;\n",
              "  for (const key of Object.keys(styleAttributes)) {\n",
              "    element.style[key] = styleAttributes[key];\n",
              "  }\n",
              "  return element;\n",
              "}\n",
              "\n",
              "// Max number of bytes which will be uploaded at a time.\n",
              "const MAX_PAYLOAD_SIZE = 100 * 1024;\n",
              "\n",
              "function _uploadFiles(inputId, outputId) {\n",
              "  const steps = uploadFilesStep(inputId, outputId);\n",
              "  const outputElement = document.getElementById(outputId);\n",
              "  // Cache steps on the outputElement to make it available for the next call\n",
              "  // to uploadFilesContinue from Python.\n",
              "  outputElement.steps = steps;\n",
              "\n",
              "  return _uploadFilesContinue(outputId);\n",
              "}\n",
              "\n",
              "// This is roughly an async generator (not supported in the browser yet),\n",
              "// where there are multiple asynchronous steps and the Python side is going\n",
              "// to poll for completion of each step.\n",
              "// This uses a Promise to block the python side on completion of each step,\n",
              "// then passes the result of the previous step as the input to the next step.\n",
              "function _uploadFilesContinue(outputId) {\n",
              "  const outputElement = document.getElementById(outputId);\n",
              "  const steps = outputElement.steps;\n",
              "\n",
              "  const next = steps.next(outputElement.lastPromiseValue);\n",
              "  return Promise.resolve(next.value.promise).then((value) => {\n",
              "    // Cache the last promise value to make it available to the next\n",
              "    // step of the generator.\n",
              "    outputElement.lastPromiseValue = value;\n",
              "    return next.value.response;\n",
              "  });\n",
              "}\n",
              "\n",
              "/**\n",
              " * Generator function which is called between each async step of the upload\n",
              " * process.\n",
              " * @param {string} inputId Element ID of the input file picker element.\n",
              " * @param {string} outputId Element ID of the output display.\n",
              " * @return {!Iterable<!Object>} Iterable of next steps.\n",
              " */\n",
              "function* uploadFilesStep(inputId, outputId) {\n",
              "  const inputElement = document.getElementById(inputId);\n",
              "  inputElement.disabled = false;\n",
              "\n",
              "  const outputElement = document.getElementById(outputId);\n",
              "  outputElement.innerHTML = '';\n",
              "\n",
              "  const pickedPromise = new Promise((resolve) => {\n",
              "    inputElement.addEventListener('change', (e) => {\n",
              "      resolve(e.target.files);\n",
              "    });\n",
              "  });\n",
              "\n",
              "  const cancel = document.createElement('button');\n",
              "  inputElement.parentElement.appendChild(cancel);\n",
              "  cancel.textContent = 'Cancel upload';\n",
              "  const cancelPromise = new Promise((resolve) => {\n",
              "    cancel.onclick = () => {\n",
              "      resolve(null);\n",
              "    };\n",
              "  });\n",
              "\n",
              "  // Wait for the user to pick the files.\n",
              "  const files = yield {\n",
              "    promise: Promise.race([pickedPromise, cancelPromise]),\n",
              "    response: {\n",
              "      action: 'starting',\n",
              "    }\n",
              "  };\n",
              "\n",
              "  cancel.remove();\n",
              "\n",
              "  // Disable the input element since further picks are not allowed.\n",
              "  inputElement.disabled = true;\n",
              "\n",
              "  if (!files) {\n",
              "    return {\n",
              "      response: {\n",
              "        action: 'complete',\n",
              "      }\n",
              "    };\n",
              "  }\n",
              "\n",
              "  for (const file of files) {\n",
              "    const li = document.createElement('li');\n",
              "    li.append(span(file.name, {fontWeight: 'bold'}));\n",
              "    li.append(span(\n",
              "        `(${file.type || 'n/a'}) - ${file.size} bytes, ` +\n",
              "        `last modified: ${\n",
              "            file.lastModifiedDate ? file.lastModifiedDate.toLocaleDateString() :\n",
              "                                    'n/a'} - `));\n",
              "    const percent = span('0% done');\n",
              "    li.appendChild(percent);\n",
              "\n",
              "    outputElement.appendChild(li);\n",
              "\n",
              "    const fileDataPromise = new Promise((resolve) => {\n",
              "      const reader = new FileReader();\n",
              "      reader.onload = (e) => {\n",
              "        resolve(e.target.result);\n",
              "      };\n",
              "      reader.readAsArrayBuffer(file);\n",
              "    });\n",
              "    // Wait for the data to be ready.\n",
              "    let fileData = yield {\n",
              "      promise: fileDataPromise,\n",
              "      response: {\n",
              "        action: 'continue',\n",
              "      }\n",
              "    };\n",
              "\n",
              "    // Use a chunked sending to avoid message size limits. See b/62115660.\n",
              "    let position = 0;\n",
              "    do {\n",
              "      const length = Math.min(fileData.byteLength - position, MAX_PAYLOAD_SIZE);\n",
              "      const chunk = new Uint8Array(fileData, position, length);\n",
              "      position += length;\n",
              "\n",
              "      const base64 = btoa(String.fromCharCode.apply(null, chunk));\n",
              "      yield {\n",
              "        response: {\n",
              "          action: 'append',\n",
              "          file: file.name,\n",
              "          data: base64,\n",
              "        },\n",
              "      };\n",
              "\n",
              "      let percentDone = fileData.byteLength === 0 ?\n",
              "          100 :\n",
              "          Math.round((position / fileData.byteLength) * 100);\n",
              "      percent.textContent = `${percentDone}% done`;\n",
              "\n",
              "    } while (position < fileData.byteLength);\n",
              "  }\n",
              "\n",
              "  // All done.\n",
              "  yield {\n",
              "    response: {\n",
              "      action: 'complete',\n",
              "    }\n",
              "  };\n",
              "}\n",
              "\n",
              "scope.google = scope.google || {};\n",
              "scope.google.colab = scope.google.colab || {};\n",
              "scope.google.colab._files = {\n",
              "  _uploadFiles,\n",
              "  _uploadFilesContinue,\n",
              "};\n",
              "})(self);\n",
              "</script> "
            ]
          },
          "metadata": {}
        },
        {
          "output_type": "stream",
          "name": "stdout",
          "text": [
            "Saving kaggle.json to kaggle (1).json\n"
          ]
        },
        {
          "output_type": "execute_result",
          "data": {
            "text/plain": [
              "{'kaggle.json': b'{\"username\":\"manjindersinghpadda\",\"key\":\"b2101be7b269b24a7eed1d9963964e82\"}'}"
            ]
          },
          "metadata": {},
          "execution_count": 3
        }
      ]
    },
    {
      "cell_type": "code",
      "source": [
        "!ls -lha kaggle.json"
      ],
      "metadata": {
        "colab": {
          "base_uri": "https://localhost:8080/"
        },
        "id": "SaKe6nJw03Fx",
        "outputId": "80e49524-d14a-409c-cb5d-9d236140c64d"
      },
      "execution_count": null,
      "outputs": [
        {
          "output_type": "stream",
          "name": "stdout",
          "text": [
            "-rw-r--r-- 1 root root 75 Apr 20 23:00 kaggle.json\n"
          ]
        }
      ]
    },
    {
      "cell_type": "code",
      "source": [
        "!pip install -q kaggle"
      ],
      "metadata": {
        "id": "k2nSqGGr06NV"
      },
      "execution_count": null,
      "outputs": []
    },
    {
      "cell_type": "code",
      "source": [
        "!mkdir -p ~/.kaggle "
      ],
      "metadata": {
        "id": "btUBgzqJ0-AC"
      },
      "execution_count": null,
      "outputs": []
    },
    {
      "cell_type": "code",
      "source": [
        "!cp kaggle.json ~/.kaggle/"
      ],
      "metadata": {
        "id": "rpkv2MTw0_10"
      },
      "execution_count": null,
      "outputs": []
    },
    {
      "cell_type": "code",
      "source": [
        "!chmod 600 /root/.kaggle/kaggle.json"
      ],
      "metadata": {
        "id": "RaCuSro-1CvO"
      },
      "execution_count": null,
      "outputs": []
    },
    {
      "cell_type": "code",
      "source": [
        "!pwd"
      ],
      "metadata": {
        "colab": {
          "base_uri": "https://localhost:8080/"
        },
        "id": "SLoONIEA1Fyr",
        "outputId": "4c0e1723-96e5-439e-c338-e21b0b240fa6"
      },
      "execution_count": null,
      "outputs": [
        {
          "output_type": "stream",
          "name": "stdout",
          "text": [
            "/content\n"
          ]
        }
      ]
    },
    {
      "cell_type": "code",
      "source": [
        "!kaggle datasets download -d emmarex/plantdisease"
      ],
      "metadata": {
        "colab": {
          "base_uri": "https://localhost:8080/"
        },
        "id": "M3nba5Fox5Ry",
        "outputId": "efbb1e87-b4af-424c-86bd-95b411825436"
      },
      "execution_count": null,
      "outputs": [
        {
          "output_type": "stream",
          "name": "stdout",
          "text": [
            "plantdisease.zip: Skipping, found more recently modified local copy (use --force to force download)\n"
          ]
        }
      ]
    },
    {
      "cell_type": "code",
      "source": [
        "! unzip plantdisease.zip"
      ],
      "metadata": {
        "colab": {
          "base_uri": "https://localhost:8080/"
        },
        "id": "06ztWoN_1wWO",
        "outputId": "b26a5e42-3014-41f2-ab80-8a8398944d51"
      },
      "execution_count": null,
      "outputs": [
        {
          "output_type": "stream",
          "name": "stdout",
          "text": [
            "Archive:  plantdisease.zip\n",
            "replace PlantVillage/Pepper__bell___Bacterial_spot/0022d6b7-d47c-4ee2-ae9a-392a53f48647___JR_B.Spot 8964.JPG? [y]es, [n]o, [A]ll, [N]one, [r]ename: n\n",
            "replace PlantVillage/Pepper__bell___Bacterial_spot/006adb74-934f-448f-a14f-62181742127b___JR_B.Spot 3395.JPG? [y]es, [n]o, [A]ll, [N]one, [r]ename: "
          ]
        }
      ]
    },
    {
      "cell_type": "code",
      "source": [
        "from google.colab import drive\n",
        "drive.mount('/content/drive')"
      ],
      "metadata": {
        "colab": {
          "base_uri": "https://localhost:8080/"
        },
        "id": "9BipvHtQ186W",
        "outputId": "df1d2f17-3bcc-4918-804b-8be61c182bf2"
      },
      "execution_count": null,
      "outputs": [
        {
          "output_type": "stream",
          "name": "stdout",
          "text": [
            "Drive already mounted at /content/drive; to attempt to forcibly remount, call drive.mount(\"/content/drive\", force_remount=True).\n"
          ]
        }
      ]
    },
    {
      "metadata": {
        "_uuid": "8f2839f25d086af736a60e9eeb907d3b93b6e0e5",
        "_cell_guid": "b1076dfc-b9ad-4769-8c92-a6c4dae69d19",
        "trusted": true,
        "id": "uPTpDAZrxkSI"
      },
      "cell_type": "code",
      "source": [
        "import numpy as np\n",
        "import pickle\n",
        "import cv2\n",
        "from os import listdir\n",
        "from sklearn.preprocessing import LabelBinarizer\n",
        "from keras.models import Sequential\n",
        "from tensorflow.keras.layers import BatchNormalization\n",
        "from keras.layers.convolutional import Conv2D\n",
        "from keras.layers.convolutional import MaxPooling2D\n",
        "from keras.layers.core import Activation, Flatten, Dropout, Dense\n",
        "from keras import backend as K\n",
        "from keras.preprocessing.image import ImageDataGenerator\n",
        "from keras.optimizers import Adam\n",
        "from keras.preprocessing import image\n",
        "from tensorflow.keras.preprocessing.image import img_to_array\n",
        "from sklearn.preprocessing import MultiLabelBinarizer\n",
        "from sklearn.model_selection import train_test_split\n",
        "import matplotlib.pyplot as plt"
      ],
      "execution_count": null,
      "outputs": []
    },
    {
      "metadata": {
        "trusted": true,
        "_uuid": "7c3354a78e21a1a62ad0c4689d0ab3238fb760d4",
        "id": "f1LD2XOYxkSJ"
      },
      "cell_type": "code",
      "source": [
        "EPOCHS = 25\n",
        "INIT_LR = 1e-3\n",
        "BS = 32\n",
        "default_image_size = tuple((256, 256))\n",
        "image_size = 0\n",
        "directory_root = '/content/plantvillage'\n",
        "width=256\n",
        "height=256\n",
        "depth=3"
      ],
      "execution_count": null,
      "outputs": []
    },
    {
      "metadata": {
        "_uuid": "2bf7ac0a0b805946f844a48e55d5281403e53f57",
        "id": "tI5D3nm4xkSJ"
      },
      "cell_type": "markdown",
      "source": [
        "Function to convert images to array"
      ]
    },
    {
      "metadata": {
        "trusted": true,
        "_uuid": "c9c3e60b13ace6c8f3e54336e12f9970fde438a3",
        "id": "iHJm8vboxkSK"
      },
      "cell_type": "code",
      "source": [
        "def convert_image_to_array(image_dir):\n",
        "    try:\n",
        "        image = cv2.imread(image_dir)\n",
        "        if image is not None :\n",
        "            image = cv2.resize(image, default_image_size)   \n",
        "            return img_to_array(image)\n",
        "        else :\n",
        "            return np.array([])\n",
        "    except Exception as e:\n",
        "        print(f\"Error : {e}\")\n",
        "        return None"
      ],
      "execution_count": null,
      "outputs": []
    },
    {
      "metadata": {
        "_uuid": "24d42b87fad54a9556f78357ce673cc5152468c1",
        "id": "Q3uVurixxkSK"
      },
      "cell_type": "markdown",
      "source": [
        "Fetch images from directory"
      ]
    },
    {
      "metadata": {
        "trusted": true,
        "_uuid": "bb8d4c343314028f52ae3c3a840478a834a16c95",
        "colab": {
          "base_uri": "https://localhost:8080/"
        },
        "id": "RkXmxkdTxkSK",
        "outputId": "ebe11ec8-c0c8-4df5-91e7-9cff25ac2341"
      },
      "cell_type": "code",
      "source": [
        "import os\n",
        "\n",
        "image_list, label_list = [], []\n",
        "try:\n",
        "    print(\"[INFO] Loading images ...\")\n",
        "    root_dir = os.listdir(directory_root)\n",
        "    for directory in root_dir :\n",
        "        # remove .DS_Store from list\n",
        "        if directory == \".DS_Store\" :\n",
        "            root_dir.remove(directory)\n",
        "\n",
        "    for plant_folder in root_dir :\n",
        "        plant_folder_path = os.path.join(directory_root, plant_folder)\n",
        "        if os.path.isdir(plant_folder_path):\n",
        "            plant_disease_folder_list = os.listdir(plant_folder_path)\n",
        "\n",
        "            for disease_folder in plant_disease_folder_list :\n",
        "                # remove .DS_Store from list\n",
        "                if disease_folder == \".DS_Store\" :\n",
        "                    plant_disease_folder_list.remove(disease_folder)\n",
        "\n",
        "            for plant_disease_folder in plant_disease_folder_list:\n",
        "                print(f\"[INFO] Loading images: {plant_disease_folder} ...\")\n",
        "                plant_disease_folder_path = os.path.join(plant_folder_path, plant_disease_folder)\n",
        "                if os.path.isdir(plant_disease_folder_path):\n",
        "                    print(f\"[INFO] Processing {plant_disease_folder} ...\")\n",
        "                    plant_disease_image_list = os.listdir(plant_disease_folder_path)\n",
        "                        \n",
        "                    for single_plant_disease_image in plant_disease_image_list :\n",
        "                        if single_plant_disease_image == \".DS_Store\" :\n",
        "                            plant_disease_image_list.remove(single_plant_disease_image)\n",
        "\n",
        "                    for image in plant_disease_image_list[:200]:\n",
        "                        image_directory = os.path.join(plant_disease_folder_path, image)\n",
        "                        if image_directory.endswith(\".jpg\") or image_directory.endswith(\".JPG\"):\n",
        "                            image_list.append(convert_image_to_array(image_directory))\n",
        "                            label_list.append(plant_disease_folder)\n",
        "    print(\"[INFO] Image loading completed\")  \n",
        "except Exception as e:\n",
        "    print(f\"Error : {e}\")\n"
      ],
      "execution_count": null,
      "outputs": [
        {
          "output_type": "stream",
          "name": "stdout",
          "text": [
            "[INFO] Loading images ...\n",
            "[INFO] Loading images: Tomato_Spider_mites_Two_spotted_spider_mite ...\n",
            "[INFO] Processing Tomato_Spider_mites_Two_spotted_spider_mite ...\n",
            "[INFO] Loading images: Potato___healthy ...\n",
            "[INFO] Processing Potato___healthy ...\n",
            "[INFO] Loading images: Tomato_healthy ...\n",
            "[INFO] Processing Tomato_healthy ...\n",
            "[INFO] Loading images: Potato___Early_blight ...\n",
            "[INFO] Processing Potato___Early_blight ...\n",
            "[INFO] Loading images: Potato___Late_blight ...\n",
            "[INFO] Processing Potato___Late_blight ...\n",
            "[INFO] Loading images: Tomato_Late_blight ...\n",
            "[INFO] Processing Tomato_Late_blight ...\n",
            "[INFO] Loading images: Tomato_Early_blight ...\n",
            "[INFO] Processing Tomato_Early_blight ...\n",
            "[INFO] Loading images: Tomato_Bacterial_spot ...\n",
            "[INFO] Processing Tomato_Bacterial_spot ...\n",
            "[INFO] Loading images: Pepper__bell___healthy ...\n",
            "[INFO] Processing Pepper__bell___healthy ...\n",
            "[INFO] Loading images: Tomato_Septoria_leaf_spot ...\n",
            "[INFO] Processing Tomato_Septoria_leaf_spot ...\n",
            "[INFO] Loading images: Tomato__Tomato_mosaic_virus ...\n",
            "[INFO] Processing Tomato__Tomato_mosaic_virus ...\n",
            "[INFO] Loading images: Tomato__Tomato_YellowLeaf__Curl_Virus ...\n",
            "[INFO] Processing Tomato__Tomato_YellowLeaf__Curl_Virus ...\n",
            "[INFO] Loading images: Tomato_Leaf_Mold ...\n",
            "[INFO] Processing Tomato_Leaf_Mold ...\n",
            "[INFO] Loading images: Tomato__Target_Spot ...\n",
            "[INFO] Processing Tomato__Target_Spot ...\n",
            "[INFO] Loading images: Pepper__bell___Bacterial_spot ...\n",
            "[INFO] Processing Pepper__bell___Bacterial_spot ...\n",
            "[INFO] Image loading completed\n"
          ]
        }
      ]
    },
    {
      "metadata": {
        "_uuid": "35c4b76d33e0263523e479657580104532f81d6e",
        "id": "n5jkSUkjxkSL"
      },
      "cell_type": "markdown",
      "source": [
        "Get Size of Processed Image"
      ]
    },
    {
      "metadata": {
        "trusted": true,
        "_uuid": "6ee1ad9c422f112ec2862699b5c0f68b8d658123",
        "id": "vYCpPjjhxkSL"
      },
      "cell_type": "code",
      "source": [
        "image_size = len(image_list)"
      ],
      "execution_count": null,
      "outputs": []
    },
    {
      "cell_type": "code",
      "source": [
        "image_size"
      ],
      "metadata": {
        "colab": {
          "base_uri": "https://localhost:8080/"
        },
        "id": "6a07IJk73ffY",
        "outputId": "71dc8a20-6b6e-4c8b-cdc6-c1fbf4d0190f"
      },
      "execution_count": null,
      "outputs": [
        {
          "output_type": "execute_result",
          "data": {
            "text/plain": [
              "2951"
            ]
          },
          "metadata": {},
          "execution_count": 18
        }
      ]
    },
    {
      "metadata": {
        "_uuid": "905b41b226f3fd82a88e67821eb42a07f24b31f7",
        "id": "Ajz6ipiexkSL"
      },
      "cell_type": "markdown",
      "source": [
        "Transform Image Labels uisng [Scikit Learn](http://scikit-learn.org/)'s LabelBinarizer"
      ]
    },
    {
      "metadata": {
        "trusted": true,
        "_uuid": "904ff893fe14f5060dd9e7be2ccf96ec793597e5",
        "id": "dm2NA3jvxkSL"
      },
      "cell_type": "code",
      "source": [
        "label_binarizer = LabelBinarizer()\n",
        "image_labels = label_binarizer.fit_transform(label_list)\n",
        "pickle.dump(label_binarizer,open('label_transform.pkl', 'wb'))\n",
        "n_classes = len(label_binarizer.classes_)"
      ],
      "execution_count": null,
      "outputs": []
    },
    {
      "metadata": {
        "_uuid": "f860c29a1d714f06d25e6a0c5bca94739e5d24cc",
        "id": "huYrmRN1xkSL"
      },
      "cell_type": "markdown",
      "source": [
        "Print the classes"
      ]
    },
    {
      "metadata": {
        "trusted": true,
        "_uuid": "0f876397c40c3c8aa09772a92fd60481fc9ba268",
        "colab": {
          "base_uri": "https://localhost:8080/"
        },
        "id": "yW3WJKhvxkSM",
        "outputId": "ec0e6511-87c3-4cb0-b728-23f878b60a8e"
      },
      "cell_type": "code",
      "source": [
        "print(label_binarizer.classes_)"
      ],
      "execution_count": null,
      "outputs": [
        {
          "output_type": "stream",
          "name": "stdout",
          "text": [
            "['Pepper__bell___Bacterial_spot' 'Pepper__bell___healthy'\n",
            " 'Potato___Early_blight' 'Potato___Late_blight' 'Potato___healthy'\n",
            " 'Tomato_Bacterial_spot' 'Tomato_Early_blight' 'Tomato_Late_blight'\n",
            " 'Tomato_Leaf_Mold' 'Tomato_Septoria_leaf_spot'\n",
            " 'Tomato_Spider_mites_Two_spotted_spider_mite' 'Tomato__Target_Spot'\n",
            " 'Tomato__Tomato_YellowLeaf__Curl_Virus' 'Tomato__Tomato_mosaic_virus'\n",
            " 'Tomato_healthy']\n"
          ]
        }
      ]
    },
    {
      "metadata": {
        "trusted": true,
        "_uuid": "6cd9c977b3d164a5570a0c24fdd8624adb9d56b8",
        "id": "vNvHKPn4xkSM"
      },
      "cell_type": "code",
      "source": [
        "np_image_list = np.array(image_list, dtype=np.float16) / 225.0"
      ],
      "execution_count": null,
      "outputs": []
    },
    {
      "metadata": {
        "trusted": true,
        "_uuid": "9f4829560fdfa218cee18c1cfb2eb9452ef180e5",
        "colab": {
          "base_uri": "https://localhost:8080/"
        },
        "id": "4URj5H7qxkSM",
        "outputId": "ee245666-a43a-4d8c-9db4-cceaf0a709e6"
      },
      "cell_type": "code",
      "source": [
        "print(\"[INFO] Spliting data to train, test\")\n",
        "x_train, x_test, y_train, y_test = train_test_split(np_image_list, image_labels, test_size=0.2, random_state = 42) "
      ],
      "execution_count": null,
      "outputs": [
        {
          "output_type": "stream",
          "name": "stdout",
          "text": [
            "[INFO] Spliting data to train, test\n"
          ]
        }
      ]
    },
    {
      "metadata": {
        "trusted": true,
        "_uuid": "eec8afa64e676d52c814fc8e096955a60f13b6c5",
        "id": "X9yA-WGlxkSM"
      },
      "cell_type": "code",
      "source": [
        "aug = ImageDataGenerator(\n",
        "    rotation_range=25, width_shift_range=0.1,\n",
        "    height_shift_range=0.1, shear_range=0.2, \n",
        "    zoom_range=0.2,horizontal_flip=True, \n",
        "    fill_mode=\"nearest\")"
      ],
      "execution_count": null,
      "outputs": []
    },
    {
      "metadata": {
        "_cell_guid": "79c7e3d0-c299-4dcb-8224-4455121ee9b0",
        "_uuid": "d629ff2d2480ee46fbb7e2d37f6b5fab8052498a",
        "trusted": true,
        "id": "pPxTUNgKxkSM"
      },
      "cell_type": "code",
      "source": [
        "model = Sequential()\n",
        "inputShape = (height, width, depth)\n",
        "chanDim = -1\n",
        "if K.image_data_format() == \"channels_first\":\n",
        "    inputShape = (depth, height, width)\n",
        "    chanDim = 1\n",
        "model.add(Conv2D(32, (3, 3), padding=\"same\",input_shape=inputShape))\n",
        "model.add(Activation(\"relu\"))\n",
        "model.add(BatchNormalization(axis=chanDim))\n",
        "model.add(MaxPooling2D(pool_size=(3, 3)))\n",
        "model.add(Dropout(0.25))\n",
        "model.add(Conv2D(64, (3, 3), padding=\"same\"))\n",
        "model.add(Activation(\"relu\"))\n",
        "model.add(BatchNormalization(axis=chanDim))\n",
        "model.add(Conv2D(64, (3, 3), padding=\"same\"))\n",
        "model.add(Activation(\"relu\"))\n",
        "model.add(BatchNormalization(axis=chanDim))\n",
        "model.add(MaxPooling2D(pool_size=(2, 2)))\n",
        "model.add(Dropout(0.25))\n",
        "model.add(Conv2D(128, (3, 3), padding=\"same\"))\n",
        "model.add(Activation(\"relu\"))\n",
        "model.add(BatchNormalization(axis=chanDim))\n",
        "model.add(Conv2D(128, (3, 3), padding=\"same\"))\n",
        "model.add(Activation(\"relu\"))\n",
        "model.add(BatchNormalization(axis=chanDim))\n",
        "model.add(MaxPooling2D(pool_size=(2, 2)))\n",
        "model.add(Dropout(0.25))\n",
        "model.add(Flatten())\n",
        "model.add(Dense(1024))\n",
        "model.add(Activation(\"relu\"))\n",
        "model.add(BatchNormalization())\n",
        "model.add(Dropout(0.5))\n",
        "model.add(Dense(n_classes))\n",
        "model.add(Activation(\"softmax\"))"
      ],
      "execution_count": null,
      "outputs": []
    },
    {
      "metadata": {
        "_uuid": "53b13c03e4cea6dc2453a84e254b806ebeed2d99",
        "id": "hEkT5Or6xkSN"
      },
      "cell_type": "markdown",
      "source": [
        "Model Summary"
      ]
    },
    {
      "metadata": {
        "trusted": true,
        "_uuid": "1e1523a834fbf872940171fbdefb3dcce2b5f31b",
        "colab": {
          "base_uri": "https://localhost:8080/"
        },
        "id": "qOXWPDQzxkSN",
        "outputId": "1e1f5fd9-cbb1-4737-e0a3-edc6e46748ac"
      },
      "cell_type": "code",
      "source": [
        "model.summary()"
      ],
      "execution_count": null,
      "outputs": [
        {
          "output_type": "stream",
          "name": "stdout",
          "text": [
            "Model: \"sequential\"\n",
            "_________________________________________________________________\n",
            " Layer (type)                Output Shape              Param #   \n",
            "=================================================================\n",
            " conv2d (Conv2D)             (None, 256, 256, 32)      896       \n",
            "                                                                 \n",
            " activation (Activation)     (None, 256, 256, 32)      0         \n",
            "                                                                 \n",
            " batch_normalization (BatchN  (None, 256, 256, 32)     128       \n",
            " ormalization)                                                   \n",
            "                                                                 \n",
            " max_pooling2d (MaxPooling2D  (None, 85, 85, 32)       0         \n",
            " )                                                               \n",
            "                                                                 \n",
            " dropout (Dropout)           (None, 85, 85, 32)        0         \n",
            "                                                                 \n",
            " conv2d_1 (Conv2D)           (None, 85, 85, 64)        18496     \n",
            "                                                                 \n",
            " activation_1 (Activation)   (None, 85, 85, 64)        0         \n",
            "                                                                 \n",
            " batch_normalization_1 (Batc  (None, 85, 85, 64)       256       \n",
            " hNormalization)                                                 \n",
            "                                                                 \n",
            " conv2d_2 (Conv2D)           (None, 85, 85, 64)        36928     \n",
            "                                                                 \n",
            " activation_2 (Activation)   (None, 85, 85, 64)        0         \n",
            "                                                                 \n",
            " batch_normalization_2 (Batc  (None, 85, 85, 64)       256       \n",
            " hNormalization)                                                 \n",
            "                                                                 \n",
            " max_pooling2d_1 (MaxPooling  (None, 42, 42, 64)       0         \n",
            " 2D)                                                             \n",
            "                                                                 \n",
            " dropout_1 (Dropout)         (None, 42, 42, 64)        0         \n",
            "                                                                 \n",
            " conv2d_3 (Conv2D)           (None, 42, 42, 128)       73856     \n",
            "                                                                 \n",
            " activation_3 (Activation)   (None, 42, 42, 128)       0         \n",
            "                                                                 \n",
            " batch_normalization_3 (Batc  (None, 42, 42, 128)      512       \n",
            " hNormalization)                                                 \n",
            "                                                                 \n",
            " conv2d_4 (Conv2D)           (None, 42, 42, 128)       147584    \n",
            "                                                                 \n",
            " activation_4 (Activation)   (None, 42, 42, 128)       0         \n",
            "                                                                 \n",
            " batch_normalization_4 (Batc  (None, 42, 42, 128)      512       \n",
            " hNormalization)                                                 \n",
            "                                                                 \n",
            " max_pooling2d_2 (MaxPooling  (None, 21, 21, 128)      0         \n",
            " 2D)                                                             \n",
            "                                                                 \n",
            " dropout_2 (Dropout)         (None, 21, 21, 128)       0         \n",
            "                                                                 \n",
            " flatten (Flatten)           (None, 56448)             0         \n",
            "                                                                 \n",
            " dense (Dense)               (None, 1024)              57803776  \n",
            "                                                                 \n",
            " activation_5 (Activation)   (None, 1024)              0         \n",
            "                                                                 \n",
            " batch_normalization_5 (Batc  (None, 1024)             4096      \n",
            " hNormalization)                                                 \n",
            "                                                                 \n",
            " dropout_3 (Dropout)         (None, 1024)              0         \n",
            "                                                                 \n",
            " dense_1 (Dense)             (None, 15)                15375     \n",
            "                                                                 \n",
            " activation_6 (Activation)   (None, 15)                0         \n",
            "                                                                 \n",
            "=================================================================\n",
            "Total params: 58,102,671\n",
            "Trainable params: 58,099,791\n",
            "Non-trainable params: 2,880\n",
            "_________________________________________________________________\n"
          ]
        }
      ]
    },
    {
      "metadata": {
        "trusted": true,
        "_uuid": "b21dffee32c325136b4ea23ac511049723f34a24",
        "colab": {
          "base_uri": "https://localhost:8080/"
        },
        "id": "lNn6gTgoxkSN",
        "outputId": "46595253-5691-40ac-c7c6-9694463958c1"
      },
      "cell_type": "code",
      "source": [
        "opt = Adam(lr=INIT_LR, decay=INIT_LR / EPOCHS)\n",
        "# distribution\n",
        "model.compile(loss=\"binary_crossentropy\", optimizer=opt,metrics=[\"accuracy\"])\n",
        "# train the network\n",
        "print(\"[INFO] training network...\")"
      ],
      "execution_count": null,
      "outputs": [
        {
          "output_type": "stream",
          "name": "stdout",
          "text": [
            "[INFO] training network...\n"
          ]
        },
        {
          "output_type": "stream",
          "name": "stderr",
          "text": [
            "/usr/local/lib/python3.9/dist-packages/keras/optimizers/legacy/adam.py:117: UserWarning: The `lr` argument is deprecated, use `learning_rate` instead.\n",
            "  super().__init__(name, **kwargs)\n"
          ]
        }
      ]
    },
    {
      "metadata": {
        "trusted": true,
        "_uuid": "1a13efc5ded339fc3c0d9e61041e8ca555362db0",
        "colab": {
          "base_uri": "https://localhost:8080/"
        },
        "id": "wnqM_e7ZxkSN",
        "outputId": "fe700583-e716-4440-e0cc-6a4fbb0aef23"
      },
      "cell_type": "code",
      "source": [
        "history = model.fit_generator(\n",
        "    aug.flow(x_train, y_train, batch_size=BS),\n",
        "    validation_data=(x_test, y_test),\n",
        "    steps_per_epoch=len(x_train) // BS,\n",
        "    epochs=EPOCHS, verbose=1\n",
        "    )"
      ],
      "execution_count": null,
      "outputs": [
        {
          "output_type": "stream",
          "name": "stderr",
          "text": [
            "<ipython-input-27-f5a41846f0f2>:1: UserWarning: `Model.fit_generator` is deprecated and will be removed in a future version. Please use `Model.fit`, which supports generators.\n",
            "  history = model.fit_generator(\n"
          ]
        },
        {
          "output_type": "stream",
          "name": "stdout",
          "text": [
            "Epoch 1/25\n",
            "73/73 [==============================] - 54s 587ms/step - loss: 0.6170 - accuracy: 0.2199 - val_loss: 0.6246 - val_accuracy: 0.0711\n",
            "Epoch 2/25\n",
            "73/73 [==============================] - 39s 526ms/step - loss: 0.2858 - accuracy: 0.2964 - val_loss: 0.3972 - val_accuracy: 0.0745\n",
            "Epoch 3/25\n",
            "73/73 [==============================] - 40s 550ms/step - loss: 0.1873 - accuracy: 0.5168 - val_loss: 1.4880 - val_accuracy: 0.0711\n",
            "Epoch 4/25\n",
            "73/73 [==============================] - 45s 614ms/step - loss: 0.1503 - accuracy: 0.6074 - val_loss: 3.6734 - val_accuracy: 0.0711\n",
            "Epoch 5/25\n",
            "73/73 [==============================] - 40s 543ms/step - loss: 0.1305 - accuracy: 0.6572 - val_loss: 0.8653 - val_accuracy: 0.0998\n",
            "Epoch 6/25\n",
            "73/73 [==============================] - 39s 530ms/step - loss: 0.1171 - accuracy: 0.6997 - val_loss: 1.2681 - val_accuracy: 0.0964\n",
            "Epoch 7/25\n",
            "73/73 [==============================] - 39s 524ms/step - loss: 0.1121 - accuracy: 0.7182 - val_loss: 2.2837 - val_accuracy: 0.1404\n",
            "Epoch 8/25\n",
            "73/73 [==============================] - 40s 548ms/step - loss: 0.1140 - accuracy: 0.7023 - val_loss: 1.2053 - val_accuracy: 0.2673\n",
            "Epoch 9/25\n",
            "73/73 [==============================] - 40s 547ms/step - loss: 0.1201 - accuracy: 0.7027 - val_loss: 0.9468 - val_accuracy: 0.2098\n",
            "Epoch 10/25\n",
            "73/73 [==============================] - 40s 550ms/step - loss: 0.0965 - accuracy: 0.7543 - val_loss: 0.4062 - val_accuracy: 0.4501\n",
            "Epoch 11/25\n",
            "73/73 [==============================] - 39s 527ms/step - loss: 0.0872 - accuracy: 0.7818 - val_loss: 0.2100 - val_accuracy: 0.6261\n",
            "Epoch 12/25\n",
            "73/73 [==============================] - 38s 515ms/step - loss: 0.0970 - accuracy: 0.7504 - val_loss: 0.1811 - val_accuracy: 0.6514\n",
            "Epoch 13/25\n",
            "73/73 [==============================] - 39s 530ms/step - loss: 0.0909 - accuracy: 0.7758 - val_loss: 0.2787 - val_accuracy: 0.5533\n",
            "Epoch 14/25\n",
            "73/73 [==============================] - 39s 540ms/step - loss: 0.0815 - accuracy: 0.7990 - val_loss: 0.2019 - val_accuracy: 0.7174\n",
            "Epoch 15/25\n",
            "73/73 [==============================] - 39s 536ms/step - loss: 0.0771 - accuracy: 0.8067 - val_loss: 0.1251 - val_accuracy: 0.7716\n",
            "Epoch 16/25\n",
            "73/73 [==============================] - 38s 513ms/step - loss: 0.0725 - accuracy: 0.8277 - val_loss: 0.2221 - val_accuracy: 0.7208\n",
            "Epoch 17/25\n",
            "73/73 [==============================] - 40s 543ms/step - loss: 0.0661 - accuracy: 0.8458 - val_loss: 0.3765 - val_accuracy: 0.5296\n",
            "Epoch 18/25\n",
            "73/73 [==============================] - 39s 533ms/step - loss: 0.0757 - accuracy: 0.8106 - val_loss: 0.3188 - val_accuracy: 0.5347\n",
            "Epoch 19/25\n",
            "73/73 [==============================] - 39s 536ms/step - loss: 0.0655 - accuracy: 0.8436 - val_loss: 0.1165 - val_accuracy: 0.7699\n",
            "Epoch 20/25\n",
            "73/73 [==============================] - 38s 519ms/step - loss: 0.0637 - accuracy: 0.8501 - val_loss: 0.1145 - val_accuracy: 0.7022\n",
            "Epoch 21/25\n",
            "73/73 [==============================] - 39s 534ms/step - loss: 0.0591 - accuracy: 0.8638 - val_loss: 0.3112 - val_accuracy: 0.5584\n",
            "Epoch 22/25\n",
            "73/73 [==============================] - 39s 539ms/step - loss: 0.0566 - accuracy: 0.8694 - val_loss: 0.3289 - val_accuracy: 0.5465\n",
            "Epoch 23/25\n",
            "73/73 [==============================] - 39s 536ms/step - loss: 0.0536 - accuracy: 0.8759 - val_loss: 0.3588 - val_accuracy: 0.5161\n",
            "Epoch 24/25\n",
            "73/73 [==============================] - 40s 546ms/step - loss: 0.0559 - accuracy: 0.8664 - val_loss: 0.3801 - val_accuracy: 0.5195\n",
            "Epoch 25/25\n",
            "73/73 [==============================] - 37s 512ms/step - loss: 0.0489 - accuracy: 0.8892 - val_loss: 0.4226 - val_accuracy: 0.7394\n"
          ]
        }
      ]
    },
    {
      "metadata": {
        "_uuid": "1495fea08b37e4d4293f975ba30e6c1fc7a85ed9",
        "id": "7W8LukvrxkSN"
      },
      "cell_type": "markdown",
      "source": [
        "Plot the train and val curve"
      ]
    },
    {
      "metadata": {
        "trusted": true,
        "_uuid": "0af5e0f23657a4effc2d21cf8e840e81f42ec8e7",
        "id": "gcMFi3HOxkSN",
        "colab": {
          "base_uri": "https://localhost:8080/",
          "height": 887
        },
        "outputId": "7e94917e-4886-4933-c77d-af00781d5fb0"
      },
      "cell_type": "code",
      "source": [
        "acc = history.history['accuracy']\n",
        "val_acc = history.history['val_accuracy']\n",
        "loss = history.history['loss']\n",
        "val_loss = history.history['val_loss']\n",
        "epochs = range(1, len(acc) + 1)\n",
        "#Train and validation accuracy\n",
        "plt.plot(epochs, acc, 'b', label='Training accurarcy')\n",
        "plt.plot(epochs, val_acc, 'r', label='Validation accurarcy')\n",
        "plt.title('Training and Validation accurarcy')\n",
        "plt.legend()\n",
        "\n",
        "plt.figure()\n",
        "#Train and validation loss\n",
        "plt.plot(epochs, loss, 'b', label='Training loss')\n",
        "plt.plot(epochs, val_loss, 'r', label='Validation loss')\n",
        "plt.title('Training and Validation loss')\n",
        "plt.legend()\n",
        "plt.show()"
      ],
      "execution_count": null,
      "outputs": [
        {
          "output_type": "display_data",
          "data": {
            "text/plain": [
              "<Figure size 640x480 with 1 Axes>"
            ],
            "image/png": "[encoded data removed]"
          },
          "metadata": {}
        },
        {
          "output_type": "display_data",
          "data": {
            "text/plain": [
              "<Figure size 640x480 with 1 Axes>"
            ],
            "image/png": "[encoded data removed]"
          },
          "metadata": {}
        }
      ]
    },
    {
      "metadata": {
        "_uuid": "9ca1a4489bd624c69a13cd37c0c2306ac8de55c2",
        "id": "mqJcVBmFxkSO"
      },
      "cell_type": "markdown",
      "source": [
        "Model Accuracy"
      ]
    },
    {
      "metadata": {
        "trusted": true,
        "_uuid": "bb44f3d0b7e2862bc7d1a032612ebfd48212c1fe",
        "id": "VGMKrKPkxkSO",
        "colab": {
          "base_uri": "https://localhost:8080/"
        },
        "outputId": "c03141d4-abbd-4a4d-c1ae-565b68b97112"
      },
      "cell_type": "code",
      "source": [
        "print(\"[INFO] Calculating model accuracy\")\n",
        "scores = model.evaluate(x_test, y_test)\n",
        "print(f\"Test Accuracy: {scores[1]*100}\")"
      ],
      "execution_count": null,
      "outputs": [
        {
          "output_type": "stream",
          "name": "stdout",
          "text": [
            "[INFO] Calculating model accuracy\n",
            "19/19 [==============================] - 1s 36ms/step - loss: 0.4226 - accuracy: 0.7394\n",
            "Test Accuracy: 73.94247055053711\n"
          ]
        }
      ]
    },
    {
      "metadata": {
        "_uuid": "2a1f759db8afe933e62fe4cf8332cb303bb11be8",
        "id": "6Xyv9DQzxkSO"
      },
      "cell_type": "markdown",
      "source": [
        "Save model using Pickle"
      ]
    },
    {
      "metadata": {
        "trusted": true,
        "_uuid": "5cdf06adf492d79ed28fbdc36e02ad7489c7b33e",
        "id": "sn9qrSTLxkSO",
        "colab": {
          "base_uri": "https://localhost:8080/"
        },
        "outputId": "c90b018f-df18-4f0a-b1b7-e174d1cb5699"
      },
      "cell_type": "code",
      "source": [
        "print(\"[INFO] Saving model...\")\n",
        "#file_name='cnn_model.pkl'\n",
        "pickle.dump(model,open('cnn_model.pkl', 'wb'))\n",
        "model.save('C:\\\\Users\\\\en0216\\\\Downloads\\\\cnn_model.pkl')\n",
        "print(\"saved\")"
      ],
      "execution_count": null,
      "outputs": [
        {
          "output_type": "stream",
          "name": "stdout",
          "text": [
            "[INFO] Saving model...\n"
          ]
        },
        {
          "output_type": "stream",
          "name": "stderr",
          "text": [
            "WARNING:absl:Found untraced functions such as _jit_compiled_convolution_op, _jit_compiled_convolution_op, _jit_compiled_convolution_op, _jit_compiled_convolution_op, _jit_compiled_convolution_op while saving (showing 5 of 5). These functions will not be directly callable after loading.\n"
          ]
        },
        {
          "output_type": "stream",
          "name": "stdout",
          "text": [
            "saved\n"
          ]
        }
      ]
    },
    {
      "cell_type": "code",
      "source": [],
      "metadata": {
        "id": "NccCKj3VUMNQ"
      },
      "execution_count": null,
      "outputs": []
    },
    {
      "cell_type": "code",
      "source": [
        "image_dir=\"/content/PlantVillage/Potato___Early_blight/0a8a68ee-f587-4dea-beec-79d02e7d3fa4___RS_Early.B 8461.JPG\"\n",
        "#image_dir=\"C:\\\\Users\\\\SHARATHVEER REDDY K\\\\Desktop\\archive\\\\PlantVillage\\\\PlantVillage\\\\plant_folder\\\\Potato___Early_blight\"\n",
        "\n",
        "im=convert_image_to_array(image_dir)\n",
        "#print(im)\n",
        "np_image_li = np.array(im, dtype=np.float16) / 225.0\n",
        "npp_image = np.expand_dims(np_image_li, axis=0)"
      ],
      "metadata": {
        "id": "7KBowJI2Op8F"
      },
      "execution_count": null,
      "outputs": []
    },
    {
      "cell_type": "code",
      "source": [
        "result=model.predict(npp_image)\n",
        "\n",
        "print(result)"
      ],
      "metadata": {
        "colab": {
          "base_uri": "https://localhost:8080/"
        },
        "id": "YbaMzQQoO5nA",
        "outputId": "cc945376-5836-4a6e-8282-aaf0f392cb5a"
      },
      "execution_count": null,
      "outputs": [
        {
          "output_type": "stream",
          "name": "stdout",
          "text": [
            "1/1 [==============================] - 1s 808ms/step\n",
            "[[2.45745896e-10 1.19988139e-13 9.99989748e-01 1.00895923e-05\n",
            "  1.04400236e-07 9.26742594e-09 3.35180234e-12 3.14643245e-09\n",
            "  6.45471324e-18 2.41527336e-11 6.85825216e-11 3.98020999e-13\n",
            "  1.96255494e-11 8.41335855e-12 1.17772512e-08]]\n"
          ]
        }
      ]
    },
    {
      "cell_type": "code",
      "source": [
        "itemindex = np.where(result==np.max(result))\n",
        "print(\"probability:\"+str(np.max(result))+\"\\n\"+label_binarizer.classes_[itemindex[1][0]])"
      ],
      "metadata": {
        "colab": {
          "base_uri": "https://localhost:8080/"
        },
        "id": "PCWWpEdAO-go",
        "outputId": "84ab6771-911a-4f72-d4a8-d1076147eed8"
      },
      "execution_count": null,
      "outputs": [
        {
          "output_type": "stream",
          "name": "stdout",
          "text": [
            "probability:0.99998975\n",
            "Potato___Early_blight\n"
          ]
        }
      ]
    }
  ],
  "metadata": {
    "kernelspec": {
      "display_name": "Python 3",
      "language": "python",
      "name": "python3"
    },
    "language_info": {
      "name": "python",
      "version": "3.6.6",
      "mimetype": "text/x-python",
      "codemirror_mode": {
        "name": "ipython",
        "version": 3
      },
      "pygments_lexer": "ipython3",
      "nbconvert_exporter": "python",
      "file_extension": ".py"
    },
    "colab": {
      "provenance": []
    },
    "accelerator": "GPU",
    "gpuClass": "standard"
  },
  "nbformat": 4,
  "nbformat_minor": 0
}